{
 "cells": [
  {
   "cell_type": "raw",
   "metadata": {},
   "source": [
    "---\n",
    "description: Implements evaluation metrics to be used in experiments\n",
    "output-file: metrics.html\n",
    "title: Metrics\n",
    "\n",
    "---\n",
    "\n"
   ]
  },
  {
   "cell_type": "code",
   "execution_count": null,
   "metadata": {},
   "outputs": [],
   "source": [
    "#| default_exp eval.metrics"
   ]
  },
  {
   "cell_type": "code",
   "execution_count": null,
   "metadata": {},
   "outputs": [],
   "source": [
    "#| export\n",
    "\n",
    "from lapsolver import solve_dense\n",
    "import numpy as np\n",
    "import torch"
   ]
  },
  {
   "cell_type": "code",
   "execution_count": null,
   "metadata": {},
   "outputs": [],
   "source": [
    "#| export\n",
    "\n",
    "def magnitude_spectrum(x):\n",
    "    return torch.abs(torch.fft.rfft(x, norm=\"forward\"))\n",
    "\n",
    "def power_spectrum(x):\n",
    "    return magnitude_spectrum(x) ** 2\n",
    "\n",
    "def log_spectral_distance(x, y):\n",
    "    return torch.sqrt(torch.mean((10 * torch.log10(power_spectrum(x) / power_spectrum(y))) ** 2))\n",
    "\n",
    "def spectral_mse_db(x, y):\n",
    "    return torch.mean(20 * torch.log10(magnitude_spectrum(x) / magnitude_spectrum(y)))\n",
    "\n",
    "def spectral_mse(x, y):\n",
    "    return torch.mean((magnitude_spectrum(x) - magnitude_spectrum(y)) ** 2)\n",
    "\n",
    "def itakura_saito(x, y):\n",
    "    P_x = power_spectrum(x)\n",
    "    P_y = power_spectrum(y)\n",
    "    return torch.mean(P_x / P_y - torch.log(P_x / P_y))"
   ]
  },
  {
   "cell_type": "code",
   "execution_count": null,
   "metadata": {},
   "outputs": [],
   "source": [
    "# | export\n",
    "\n",
    "\n",
    "def single_sinusoid_metrics(\n",
    "    target_signal: torch.Tensor,\n",
    "    target_freq: torch.Tensor,\n",
    "    target_amp: torch.Tensor,\n",
    "    target_snr: torch.Tensor,\n",
    "    predicted_signal: torch.Tensor,\n",
    "    predicted_freq: torch.Tensor,\n",
    "    predicted_amp: torch.Tensor,\n",
    "):\n",
    "    \"\"\"Calculate metrics for single sinusoid evaluation.\"\"\"\n",
    "\n",
    "    data = dict(\n",
    "        target_freq=target_freq.cpu().numpy(),\n",
    "        target_amp=target_amp.cpu().numpy(),\n",
    "        target_snr=target_snr.cpu().numpy(),\n",
    "        predicted_freq=predicted_freq.cpu().numpy(),\n",
    "        predicted_amp=predicted_amp.cpu().numpy(),\n",
    "    )\n",
    "\n",
    "    # Calculate metrics\n",
    "\n",
    "    data[\"freq_mse\"] = ((target_freq - predicted_freq) ** 2).cpu().numpy()\n",
    "    data[\"freq_mse_db\"] = 10 * np.log10(data[\"freq_mse\"])\n",
    "    data[\"amp_mse\"] = ((target_amp - predicted_amp) ** 2).cpu().numpy()\n",
    "    data[\"amp_mse_db\"] = 10 * np.log10(data[\"amp_mse\"])\n",
    "    data[\"signal_mse\"] = torch.mean((target_signal - predicted_signal) ** 2, dim=-1).cpu().numpy()\n",
    "    data[\"signal_mse_db\"] = 10 * np.log10(data[\"signal_mse\"])\n",
    "\n",
    "    joint_target = torch.stack((target_freq, target_amp), dim=-1)\n",
    "    joint_predicted = torch.stack((predicted_freq, predicted_amp), dim=-1)\n",
    "    data[\"joint_mse\"] = torch.mean((joint_target - joint_predicted) ** 2, dim=-1).cpu().numpy()\n",
    "    data[\"joint_mse_db\"] = 10 * np.log10(data[\"joint_mse\"])\n",
    "\n",
    "    return data"
   ]
  },
  {
   "cell_type": "code",
   "execution_count": null,
   "metadata": {},
   "outputs": [],
   "source": [
    "#| export\n",
    "def min_lap_cost(target, predicted, unsqueeze=False):\n",
    "    \"\"\"Calculate the minimum lap cost between two sets of points.\"\"\"\n",
    "    if unsqueeze:\n",
    "        target = target[..., None]\n",
    "        predicted = predicted[..., None]\n",
    "\n",
    "    cost = (torch.cdist(target, predicted) ** 2).cpu().numpy()\n",
    "    costs = []\n",
    "    for i in range(cost.shape[0]):\n",
    "        r, c = solve_dense(cost[i])\n",
    "        costs.append(cost[i, r, c].mean())\n",
    "    return costs"
   ]
  },
  {
   "cell_type": "code",
   "execution_count": null,
   "metadata": {},
   "outputs": [],
   "source": [
    "#| export\n",
    "\n",
    "def chamfer_distance(target, predicted, unsqueeze=False):\n",
    "    \"\"\"Calculate the Chamfer distance between two sets of points.\"\"\"\n",
    "    if unsqueeze:\n",
    "        target = target[..., None]\n",
    "        predicted = predicted[..., None]\n",
    "\n",
    "    # Compute distance matrix\n",
    "    distances = torch.cdist(target, predicted) ** 2\n",
    "\n",
    "    # Compute the minimum distance across both target and predicted dimensions\n",
    "    target_min_distances = torch.min(distances, dim=-1).values\n",
    "    predicted_min_distances = torch.min(distances, dim=-2).values\n",
    "\n",
    "    # Compute the mean of the minimum distances\n",
    "    target_mean_min_distance = torch.mean(target_min_distances, dim=-1)\n",
    "\n",
    "    # Compute the mean of the minimum distances\n",
    "    predicted_mean_min_distance = torch.mean(predicted_min_distances, dim=-1)\n",
    "\n",
    "    return target_mean_min_distance + predicted_mean_min_distance"
   ]
  },
  {
   "cell_type": "code",
   "execution_count": null,
   "metadata": {},
   "outputs": [
    {
     "data": {
      "text/plain": [
       "torch.Size([16])"
      ]
     },
     "execution_count": null,
     "metadata": {},
     "output_type": "execute_result"
    }
   ],
   "source": [
    "a = torch.randn(16, 3)\n",
    "b = torch.randn(16, 3)\n",
    "\n",
    "chamfer_distance(a, b, unsqueeze=True).shape"
   ]
  },
  {
   "cell_type": "code",
   "execution_count": null,
   "metadata": {},
   "outputs": [],
   "source": [
    "# | export\n",
    "\n",
    "\n",
    "def multi_sinusoid_metrics(\n",
    "    target_signal: torch.Tensor,\n",
    "    target_freq: torch.Tensor,\n",
    "    target_amp: torch.Tensor,\n",
    "    target_snr: torch.Tensor,\n",
    "    predicted_signal: torch.Tensor,\n",
    "    predicted_freq: torch.Tensor,\n",
    "    predicted_amp: torch.Tensor,\n",
    "):\n",
    "    \"\"\"Calculate metrics for single sinusoid evaluation.\"\"\"\n",
    "\n",
    "    data = dict(\n",
    "        target_freq=[t.numpy() for t in target_freq.cpu().split(1)],\n",
    "        target_amp=[t.numpy() for t in target_amp.cpu().split(1)],\n",
    "        target_snr=target_snr.cpu().numpy(),\n",
    "        predicted_freq=[t.numpy() for t in predicted_freq.cpu().split(1)],\n",
    "        predicted_amp=[t.numpy() for t in predicted_amp.cpu().split(1)],\n",
    "    )\n",
    "\n",
    "    # Calculate metrics\n",
    "    # NOTE: we opted not to use the linear assignment cost or Chamfer distance as\n",
    "    # metrics in the final experiments, as they appear to be poorly correlated with\n",
    "    # perceptual similarity. We leave them here for completeness, and will likely\n",
    "    # revisit them in the future work.\n",
    "\n",
    "    data[\"freq_lac\"] = min_lap_cost(target_freq, predicted_freq, unsqueeze=True)\n",
    "    data[\"freq_lac_db\"] = 10 * np.log10(data[\"freq_lac\"])\n",
    "    data[\"amp_lac\"] = min_lap_cost(target_amp, predicted_amp, unsqueeze=True)\n",
    "    data[\"amp_lac_db\"] = 10 * np.log10(data[\"amp_lac\"])\n",
    "    data[\"signal_mse\"] = (\n",
    "        torch.mean((target_signal - predicted_signal) ** 2, dim=-1).cpu().numpy()\n",
    "    )\n",
    "    data[\"signal_mse_db\"] = 10 * np.log10(data[\"signal_mse\"])\n",
    "    data[\"freq_chamfer\"] = (\n",
    "        chamfer_distance(target_freq, predicted_freq, unsqueeze=True).cpu().numpy()\n",
    "    )\n",
    "    data[\"amp_chamfer\"] = (\n",
    "        chamfer_distance(target_amp, predicted_amp, unsqueeze=True).cpu().numpy()\n",
    "    )\n",
    "    joint_target = torch.stack((target_freq, target_amp), dim=-1)\n",
    "    joint_predicted = torch.stack((predicted_freq, predicted_amp), dim=-1)\n",
    "    data[\"joint_lac\"] = min_lap_cost(joint_target, joint_predicted)\n",
    "    data[\"joint_lac_db\"] = 10 * np.log10(data[\"joint_lac\"])\n",
    "    data[\"joint_chamfer\"] = (\n",
    "        chamfer_distance(joint_target, joint_predicted).cpu().numpy()\n",
    "    )\n",
    "\n",
    "    data[\"spectral_mse\"] = 10 * np.log10(\n",
    "        np.stack(\n",
    "            list(\n",
    "                map(\n",
    "                    spectral_mse,\n",
    "                    target_signal.cpu().split(1),\n",
    "                    predicted_signal.cpu().split(1),\n",
    "                )\n",
    "            ),\n",
    "            axis=0,\n",
    "        )\n",
    "    )\n",
    "\n",
    "    return data"
   ]
  }
 ],
 "metadata": {
  "kernelspec": {
   "display_name": "Python 3.9.13 ('sin-gd')",
   "language": "python",
   "name": "python3"
  }
 },
 "nbformat": 4,
 "nbformat_minor": 2
}
